{
 "cells": [
  {
   "cell_type": "code",
   "execution_count": 1,
   "id": "42d384e0-21a5-4bda-b4b5-8b7e1a4abf30",
   "metadata": {},
   "outputs": [
    {
     "data": {
      "text/html": [
       "<iframe src=\"https://docs.google.com/presentation/d/e/2PACX-1vQHq0p2eTmxRWJjDmo1mUmdarYgIrEew4ieiVbIGQy-D_CyBw5rbbRUlRxwLKKaVQpRV9Hs8MGnz0X2/embed?start=false&loop=false&delayms=3000\" frameborder=\"1\" width=\"960\" height=\"569\" allowfullscreen=\"true\" mozallowfullscreen=\"true\" webkitallowfullscreen=\"true\"></iframe>\n"
      ],
      "text/plain": [
       "<IPython.core.display.HTML object>"
      ]
     },
     "metadata": {},
     "output_type": "display_data"
    }
   ],
   "source": [
    "%%html\n",
    "<iframe src=\"https://docs.google.com/presentation/d/e/2PACX-1vQHq0p2eTmxRWJjDmo1mUmdarYgIrEew4ieiVbIGQy-D_CyBw5rbbRUlRxwLKKaVQpRV9Hs8MGnz0X2/embed?start=false&loop=false&delayms=3000\" frameborder=\"1\" width=\"960\" height=\"569\" allowfullscreen=\"true\" mozallowfullscreen=\"true\" webkitallowfullscreen=\"true\"></iframe>\n"
   ]
  },
  {
   "cell_type": "code",
   "execution_count": 2,
   "id": "c7a26ca7-2d27-4405-b578-2afa1d54b060",
   "metadata": {},
   "outputs": [],
   "source": [
    "import pulp as pp\n"
   ]
  },
  {
   "cell_type": "code",
   "execution_count": 3,
   "id": "a529298e-0725-4e70-b60f-72007ea6e156",
   "metadata": {},
   "outputs": [],
   "source": [
    "model = pp.LpProblem(name='refinery-problem', # just the name\n",
    "                     sense=pp.LpMaximize) # type of problem"
   ]
  },
  {
   "cell_type": "code",
   "execution_count": 4,
   "id": "ccdf5c49-08de-4453-87e9-355d3569e89c",
   "metadata": {},
   "outputs": [],
   "source": [
    "# how much gas?\n",
    "Gas = pp.LpVariable(name=\"Gas\",  # just the name\n",
    "                    lowBound=0,  # ensure non-negativity\n",
    "                    cat='Continuous') # here: you accept decimal values\n",
    "\n",
    "# how much oil?\n",
    "Oil = pp.LpVariable(name=\"Oil\",\n",
    "                 lowBound=0,\n",
    "                 cat='Continuous')"
   ]
  },
  {
   "cell_type": "code",
   "execution_count": 5,
   "id": "87904e42-5c53-4a50-91b1-e2db617d7798",
   "metadata": {},
   "outputs": [],
   "source": [
    "GasCoeff=1.9\n",
    "OilCoeff=1.5\n",
    "obj_func = GasCoeff*Gas + OilCoeff*Oil"
   ]
  },
  {
   "cell_type": "code",
   "execution_count": 6,
   "id": "64dbc8c9-e4e6-4f70-945c-c566d26dfb60",
   "metadata": {},
   "outputs": [],
   "source": [
    "# SUBJECT TO:\n",
    "C1= pp.LpConstraint(name='Gas Constraint',   # just the name\n",
    "                    e= 1*Gas - 2*Oil, rhs=0, # linear combination of constraint and rhs \n",
    "                    sense=pp.LpConstraintGE) # 'rule' >= 0 (LpConstraintGE)\n",
    "C2= pp.LpConstraint(name='Oil Constraint',\n",
    "                    e= 1*Oil, rhs=3000000,\n",
    "                    sense=pp.LpConstraintGE) # 'rule' >= 3000000 (LpConstraintGE)\n",
    "C3= pp.LpConstraint(name='Demand Constraint',\n",
    "                    e= 1*Gas, rhs=6400000,\n",
    "                    sense=pp.LpConstraintLE, )# 'rule' <= 6400000 (LpConstraintLE)"
   ]
  },
  {
   "cell_type": "code",
   "execution_count": null,
   "id": "90593f2a-7a9a-4bd6-91be-960f1857f668",
   "metadata": {},
   "outputs": [],
   "source": [
    "model += obj_func\n",
    "model += C1\n",
    "model += C2\n",
    "model += C3"
   ]
  },
  {
   "cell_type": "code",
   "execution_count": 7,
   "id": "9c19d196-eaf7-4ebd-82c5-45e7224a2395",
   "metadata": {},
   "outputs": [
    {
     "name": "stdout",
     "output_type": "stream",
     "text": [
      "['GLPK_CMD', 'PYGLPK', 'CPLEX_CMD', 'CPLEX_PY', 'GUROBI', 'GUROBI_CMD', 'MOSEK', 'XPRESS', 'XPRESS', 'XPRESS_PY', 'PULP_CBC_CMD', 'COIN_CMD', 'COINMP_DLL', 'CHOCO_CMD', 'MIPCL_CMD', 'SCIP_CMD', 'FSCIP_CMD', 'SCIP_PY', 'HiGHS', 'HiGHS_CMD', 'COPT', 'COPT_DLL', 'COPT_CMD']\n"
     ]
    }
   ],
   "source": [
    "solver_list = pp.listSolvers()\n",
    "print(solver_list)"
   ]
  },
  {
   "cell_type": "code",
   "execution_count": 10,
   "id": "2860a10a-8ec6-4fbc-8694-32b3158f5735",
   "metadata": {},
   "outputs": [],
   "source": [
    "solverToUse = pp.COIN_CMD(msg=False)\n",
    "model.solve();"
   ]
  },
  {
   "cell_type": "code",
   "execution_count": 11,
   "id": "ea99bf91-5479-42c8-894c-622d4f56c81b",
   "metadata": {},
   "outputs": [
    {
     "data": {
      "text/plain": [
       "{'Model Status': 'Optimal', 'Optimal Solution': None, '__dummy': None}"
      ]
     },
     "execution_count": 11,
     "metadata": {},
     "output_type": "execute_result"
    }
   ],
   "source": [
    "import pandas as pd\n",
    "\n",
    "Results={\"Model Status\":pp.LpStatus[model.status]}\n",
    "Results.update({\"Optimal Solution\":pp.value(model.objective)})\n",
    "Results.update({v.name: v.varValue for v in model.variables()})\n",
    "Results"
   ]
  },
  {
   "cell_type": "code",
   "execution_count": 12,
   "id": "93b35fa9-e29d-44c0-840c-c043c7758dee",
   "metadata": {},
   "outputs": [
    {
     "ename": "TypeError",
     "evalue": "unsupported format string passed to NoneType.__format__",
     "output_type": "error",
     "traceback": [
      "\u001b[1;31m---------------------------------------------------------------------------\u001b[0m",
      "\u001b[1;31mTypeError\u001b[0m                                 Traceback (most recent call last)",
      "File \u001b[1;32m~\\anaconda3\\Lib\\site-packages\\IPython\\core\\formatters.py:344\u001b[0m, in \u001b[0;36mBaseFormatter.__call__\u001b[1;34m(self, obj)\u001b[0m\n\u001b[0;32m    342\u001b[0m     method \u001b[38;5;241m=\u001b[39m get_real_method(obj, \u001b[38;5;28mself\u001b[39m\u001b[38;5;241m.\u001b[39mprint_method)\n\u001b[0;32m    343\u001b[0m     \u001b[38;5;28;01mif\u001b[39;00m method \u001b[38;5;129;01mis\u001b[39;00m \u001b[38;5;129;01mnot\u001b[39;00m \u001b[38;5;28;01mNone\u001b[39;00m:\n\u001b[1;32m--> 344\u001b[0m         \u001b[38;5;28;01mreturn\u001b[39;00m method()\n\u001b[0;32m    345\u001b[0m     \u001b[38;5;28;01mreturn\u001b[39;00m \u001b[38;5;28;01mNone\u001b[39;00m\n\u001b[0;32m    346\u001b[0m \u001b[38;5;28;01melse\u001b[39;00m:\n",
      "File \u001b[1;32m~\\anaconda3\\Lib\\site-packages\\pandas\\io\\formats\\style.py:405\u001b[0m, in \u001b[0;36mStyler._repr_html_\u001b[1;34m(self)\u001b[0m\n\u001b[0;32m    400\u001b[0m \u001b[38;5;250m\u001b[39m\u001b[38;5;124;03m\"\"\"\u001b[39;00m\n\u001b[0;32m    401\u001b[0m \u001b[38;5;124;03mHooks into Jupyter notebook rich display system, which calls _repr_html_ by\u001b[39;00m\n\u001b[0;32m    402\u001b[0m \u001b[38;5;124;03mdefault if an object is returned at the end of a cell.\u001b[39;00m\n\u001b[0;32m    403\u001b[0m \u001b[38;5;124;03m\"\"\"\u001b[39;00m\n\u001b[0;32m    404\u001b[0m \u001b[38;5;28;01mif\u001b[39;00m get_option(\u001b[38;5;124m\"\u001b[39m\u001b[38;5;124mstyler.render.repr\u001b[39m\u001b[38;5;124m\"\u001b[39m) \u001b[38;5;241m==\u001b[39m \u001b[38;5;124m\"\u001b[39m\u001b[38;5;124mhtml\u001b[39m\u001b[38;5;124m\"\u001b[39m:\n\u001b[1;32m--> 405\u001b[0m     \u001b[38;5;28;01mreturn\u001b[39;00m \u001b[38;5;28mself\u001b[39m\u001b[38;5;241m.\u001b[39mto_html()\n\u001b[0;32m    406\u001b[0m \u001b[38;5;28;01mreturn\u001b[39;00m \u001b[38;5;28;01mNone\u001b[39;00m\n",
      "File \u001b[1;32m~\\anaconda3\\Lib\\site-packages\\pandas\\io\\formats\\style.py:1345\u001b[0m, in \u001b[0;36mStyler.to_html\u001b[1;34m(self, buf, table_uuid, table_attributes, sparse_index, sparse_columns, bold_headers, caption, max_rows, max_columns, encoding, doctype_html, exclude_styles, **kwargs)\u001b[0m\n\u001b[0;32m   1342\u001b[0m     obj\u001b[38;5;241m.\u001b[39mset_caption(caption)\n\u001b[0;32m   1344\u001b[0m \u001b[38;5;66;03m# Build HTML string..\u001b[39;00m\n\u001b[1;32m-> 1345\u001b[0m html \u001b[38;5;241m=\u001b[39m obj\u001b[38;5;241m.\u001b[39m_render_html(\n\u001b[0;32m   1346\u001b[0m     sparse_index\u001b[38;5;241m=\u001b[39msparse_index,\n\u001b[0;32m   1347\u001b[0m     sparse_columns\u001b[38;5;241m=\u001b[39msparse_columns,\n\u001b[0;32m   1348\u001b[0m     max_rows\u001b[38;5;241m=\u001b[39mmax_rows,\n\u001b[0;32m   1349\u001b[0m     max_cols\u001b[38;5;241m=\u001b[39mmax_columns,\n\u001b[0;32m   1350\u001b[0m     exclude_styles\u001b[38;5;241m=\u001b[39mexclude_styles,\n\u001b[0;32m   1351\u001b[0m     encoding\u001b[38;5;241m=\u001b[39mencoding \u001b[38;5;129;01mor\u001b[39;00m get_option(\u001b[38;5;124m\"\u001b[39m\u001b[38;5;124mstyler.render.encoding\u001b[39m\u001b[38;5;124m\"\u001b[39m),\n\u001b[0;32m   1352\u001b[0m     doctype_html\u001b[38;5;241m=\u001b[39mdoctype_html,\n\u001b[0;32m   1353\u001b[0m     \u001b[38;5;241m*\u001b[39m\u001b[38;5;241m*\u001b[39mkwargs,\n\u001b[0;32m   1354\u001b[0m )\n\u001b[0;32m   1356\u001b[0m \u001b[38;5;28;01mreturn\u001b[39;00m save_to_buffer(\n\u001b[0;32m   1357\u001b[0m     html, buf\u001b[38;5;241m=\u001b[39mbuf, encoding\u001b[38;5;241m=\u001b[39m(encoding \u001b[38;5;28;01mif\u001b[39;00m buf \u001b[38;5;129;01mis\u001b[39;00m \u001b[38;5;129;01mnot\u001b[39;00m \u001b[38;5;28;01mNone\u001b[39;00m \u001b[38;5;28;01melse\u001b[39;00m \u001b[38;5;28;01mNone\u001b[39;00m)\n\u001b[0;32m   1358\u001b[0m )\n",
      "File \u001b[1;32m~\\anaconda3\\Lib\\site-packages\\pandas\\io\\formats\\style_render.py:204\u001b[0m, in \u001b[0;36mStylerRenderer._render_html\u001b[1;34m(self, sparse_index, sparse_columns, max_rows, max_cols, **kwargs)\u001b[0m\n\u001b[0;32m    192\u001b[0m \u001b[38;5;28;01mdef\u001b[39;00m \u001b[38;5;21m_render_html\u001b[39m(\n\u001b[0;32m    193\u001b[0m     \u001b[38;5;28mself\u001b[39m,\n\u001b[0;32m    194\u001b[0m     sparse_index: \u001b[38;5;28mbool\u001b[39m,\n\u001b[1;32m   (...)\u001b[0m\n\u001b[0;32m    198\u001b[0m     \u001b[38;5;241m*\u001b[39m\u001b[38;5;241m*\u001b[39mkwargs,\n\u001b[0;32m    199\u001b[0m ) \u001b[38;5;241m-\u001b[39m\u001b[38;5;241m>\u001b[39m \u001b[38;5;28mstr\u001b[39m:\n\u001b[0;32m    200\u001b[0m \u001b[38;5;250m    \u001b[39m\u001b[38;5;124;03m\"\"\"\u001b[39;00m\n\u001b[0;32m    201\u001b[0m \u001b[38;5;124;03m    Renders the ``Styler`` including all applied styles to HTML.\u001b[39;00m\n\u001b[0;32m    202\u001b[0m \u001b[38;5;124;03m    Generates a dict with necessary kwargs passed to jinja2 template.\u001b[39;00m\n\u001b[0;32m    203\u001b[0m \u001b[38;5;124;03m    \"\"\"\u001b[39;00m\n\u001b[1;32m--> 204\u001b[0m     d \u001b[38;5;241m=\u001b[39m \u001b[38;5;28mself\u001b[39m\u001b[38;5;241m.\u001b[39m_render(sparse_index, sparse_columns, max_rows, max_cols, \u001b[38;5;124m\"\u001b[39m\u001b[38;5;124m&nbsp;\u001b[39m\u001b[38;5;124m\"\u001b[39m)\n\u001b[0;32m    205\u001b[0m     d\u001b[38;5;241m.\u001b[39mupdate(kwargs)\n\u001b[0;32m    206\u001b[0m     \u001b[38;5;28;01mreturn\u001b[39;00m \u001b[38;5;28mself\u001b[39m\u001b[38;5;241m.\u001b[39mtemplate_html\u001b[38;5;241m.\u001b[39mrender(\n\u001b[0;32m    207\u001b[0m         \u001b[38;5;241m*\u001b[39m\u001b[38;5;241m*\u001b[39md,\n\u001b[0;32m    208\u001b[0m         html_table_tpl\u001b[38;5;241m=\u001b[39m\u001b[38;5;28mself\u001b[39m\u001b[38;5;241m.\u001b[39mtemplate_html_table,\n\u001b[0;32m    209\u001b[0m         html_style_tpl\u001b[38;5;241m=\u001b[39m\u001b[38;5;28mself\u001b[39m\u001b[38;5;241m.\u001b[39mtemplate_html_style,\n\u001b[0;32m    210\u001b[0m     )\n",
      "File \u001b[1;32m~\\anaconda3\\Lib\\site-packages\\pandas\\io\\formats\\style_render.py:187\u001b[0m, in \u001b[0;36mStylerRenderer._render\u001b[1;34m(self, sparse_index, sparse_columns, max_rows, max_cols, blank)\u001b[0m\n\u001b[0;32m    183\u001b[0m         \u001b[38;5;28mself\u001b[39m\u001b[38;5;241m.\u001b[39mctx_index[(r \u001b[38;5;241m+\u001b[39m ctx_len, c)] \u001b[38;5;241m=\u001b[39m v\n\u001b[0;32m    185\u001b[0m     ctx_len \u001b[38;5;241m+\u001b[39m\u001b[38;5;241m=\u001b[39m \u001b[38;5;28mlen\u001b[39m(concatenated\u001b[38;5;241m.\u001b[39mindex)\n\u001b[1;32m--> 187\u001b[0m d \u001b[38;5;241m=\u001b[39m \u001b[38;5;28mself\u001b[39m\u001b[38;5;241m.\u001b[39m_translate(\n\u001b[0;32m    188\u001b[0m     sparse_index, sparse_columns, max_rows, max_cols, blank, dxs\n\u001b[0;32m    189\u001b[0m )\n\u001b[0;32m    190\u001b[0m \u001b[38;5;28;01mreturn\u001b[39;00m d\n",
      "File \u001b[1;32m~\\anaconda3\\Lib\\site-packages\\pandas\\io\\formats\\style_render.py:335\u001b[0m, in \u001b[0;36mStylerRenderer._translate\u001b[1;34m(self, sparse_index, sparse_cols, max_rows, max_cols, blank, dxs)\u001b[0m\n\u001b[0;32m    329\u001b[0m \u001b[38;5;28mself\u001b[39m\u001b[38;5;241m.\u001b[39mcellstyle_map: DefaultDict[\u001b[38;5;28mtuple\u001b[39m[CSSPair, \u001b[38;5;241m.\u001b[39m\u001b[38;5;241m.\u001b[39m\u001b[38;5;241m.\u001b[39m], \u001b[38;5;28mlist\u001b[39m[\u001b[38;5;28mstr\u001b[39m]] \u001b[38;5;241m=\u001b[39m defaultdict(\n\u001b[0;32m    330\u001b[0m     \u001b[38;5;28mlist\u001b[39m\n\u001b[0;32m    331\u001b[0m )\n\u001b[0;32m    332\u001b[0m \u001b[38;5;28mself\u001b[39m\u001b[38;5;241m.\u001b[39mcellstyle_map_index: DefaultDict[\n\u001b[0;32m    333\u001b[0m     \u001b[38;5;28mtuple\u001b[39m[CSSPair, \u001b[38;5;241m.\u001b[39m\u001b[38;5;241m.\u001b[39m\u001b[38;5;241m.\u001b[39m], \u001b[38;5;28mlist\u001b[39m[\u001b[38;5;28mstr\u001b[39m]\n\u001b[0;32m    334\u001b[0m ] \u001b[38;5;241m=\u001b[39m defaultdict(\u001b[38;5;28mlist\u001b[39m)\n\u001b[1;32m--> 335\u001b[0m body: \u001b[38;5;28mlist\u001b[39m \u001b[38;5;241m=\u001b[39m \u001b[38;5;28mself\u001b[39m\u001b[38;5;241m.\u001b[39m_translate_body(idx_lengths, max_rows, max_cols)\n\u001b[0;32m    336\u001b[0m d\u001b[38;5;241m.\u001b[39mupdate({\u001b[38;5;124m\"\u001b[39m\u001b[38;5;124mbody\u001b[39m\u001b[38;5;124m\"\u001b[39m: body})\n\u001b[0;32m    338\u001b[0m ctx_maps \u001b[38;5;241m=\u001b[39m {\n\u001b[0;32m    339\u001b[0m     \u001b[38;5;124m\"\u001b[39m\u001b[38;5;124mcellstyle\u001b[39m\u001b[38;5;124m\"\u001b[39m: \u001b[38;5;124m\"\u001b[39m\u001b[38;5;124mcellstyle_map\u001b[39m\u001b[38;5;124m\"\u001b[39m,\n\u001b[0;32m    340\u001b[0m     \u001b[38;5;124m\"\u001b[39m\u001b[38;5;124mcellstyle_index\u001b[39m\u001b[38;5;124m\"\u001b[39m: \u001b[38;5;124m\"\u001b[39m\u001b[38;5;124mcellstyle_map_index\u001b[39m\u001b[38;5;124m\"\u001b[39m,\n\u001b[0;32m    341\u001b[0m     \u001b[38;5;124m\"\u001b[39m\u001b[38;5;124mcellstyle_columns\u001b[39m\u001b[38;5;124m\"\u001b[39m: \u001b[38;5;124m\"\u001b[39m\u001b[38;5;124mcellstyle_map_columns\u001b[39m\u001b[38;5;124m\"\u001b[39m,\n\u001b[0;32m    342\u001b[0m }  \u001b[38;5;66;03m# add the cell_ids styles map to the render dictionary in right format\u001b[39;00m\n",
      "File \u001b[1;32m~\\anaconda3\\Lib\\site-packages\\pandas\\io\\formats\\style_render.py:629\u001b[0m, in \u001b[0;36mStylerRenderer._translate_body\u001b[1;34m(self, idx_lengths, max_rows, max_cols)\u001b[0m\n\u001b[0;32m    621\u001b[0m     \u001b[38;5;28;01mif\u001b[39;00m \u001b[38;5;28mself\u001b[39m\u001b[38;5;241m.\u001b[39m_check_trim(\n\u001b[0;32m    622\u001b[0m         visible_row_count,\n\u001b[0;32m    623\u001b[0m         max_rows,\n\u001b[0;32m    624\u001b[0m         body,\n\u001b[0;32m    625\u001b[0m         \u001b[38;5;124m\"\u001b[39m\u001b[38;5;124mrow\u001b[39m\u001b[38;5;124m\"\u001b[39m,\n\u001b[0;32m    626\u001b[0m     ):\n\u001b[0;32m    627\u001b[0m         \u001b[38;5;28;01mbreak\u001b[39;00m\n\u001b[1;32m--> 629\u001b[0m     body_row \u001b[38;5;241m=\u001b[39m \u001b[38;5;28mself\u001b[39m\u001b[38;5;241m.\u001b[39m_generate_body_row(\n\u001b[0;32m    630\u001b[0m         (r, row_tup, rlabels), max_cols, idx_lengths\n\u001b[0;32m    631\u001b[0m     )\n\u001b[0;32m    632\u001b[0m     body\u001b[38;5;241m.\u001b[39mappend(body_row)\n\u001b[0;32m    633\u001b[0m \u001b[38;5;28;01mreturn\u001b[39;00m body\n",
      "File \u001b[1;32m~\\anaconda3\\Lib\\site-packages\\pandas\\io\\formats\\style_render.py:826\u001b[0m, in \u001b[0;36mStylerRenderer._generate_body_row\u001b[1;34m(self, iter, max_cols, idx_lengths)\u001b[0m\n\u001b[0;32m    814\u001b[0m \u001b[38;5;28;01mif\u001b[39;00m (r, c) \u001b[38;5;129;01min\u001b[39;00m \u001b[38;5;28mself\u001b[39m\u001b[38;5;241m.\u001b[39mcell_context:\n\u001b[0;32m    815\u001b[0m     \u001b[38;5;28mcls\u001b[39m \u001b[38;5;241m=\u001b[39m \u001b[38;5;124m\"\u001b[39m\u001b[38;5;124m \u001b[39m\u001b[38;5;124m\"\u001b[39m \u001b[38;5;241m+\u001b[39m \u001b[38;5;28mself\u001b[39m\u001b[38;5;241m.\u001b[39mcell_context[r, c]\n\u001b[0;32m    817\u001b[0m data_element \u001b[38;5;241m=\u001b[39m _element(\n\u001b[0;32m    818\u001b[0m     \u001b[38;5;124m\"\u001b[39m\u001b[38;5;124mtd\u001b[39m\u001b[38;5;124m\"\u001b[39m,\n\u001b[0;32m    819\u001b[0m     (\n\u001b[0;32m    820\u001b[0m         \u001b[38;5;124mf\u001b[39m\u001b[38;5;124m\"\u001b[39m\u001b[38;5;132;01m{\u001b[39;00m\u001b[38;5;28mself\u001b[39m\u001b[38;5;241m.\u001b[39mcss[\u001b[38;5;124m'\u001b[39m\u001b[38;5;124mdata\u001b[39m\u001b[38;5;124m'\u001b[39m]\u001b[38;5;132;01m}\u001b[39;00m\u001b[38;5;124m \u001b[39m\u001b[38;5;132;01m{\u001b[39;00m\u001b[38;5;28mself\u001b[39m\u001b[38;5;241m.\u001b[39mcss[\u001b[38;5;124m'\u001b[39m\u001b[38;5;124mrow\u001b[39m\u001b[38;5;124m'\u001b[39m]\u001b[38;5;132;01m}\u001b[39;00m\u001b[38;5;132;01m{\u001b[39;00mr\u001b[38;5;132;01m}\u001b[39;00m\u001b[38;5;124m \u001b[39m\u001b[38;5;124m\"\u001b[39m\n\u001b[0;32m    821\u001b[0m         \u001b[38;5;124mf\u001b[39m\u001b[38;5;124m\"\u001b[39m\u001b[38;5;132;01m{\u001b[39;00m\u001b[38;5;28mself\u001b[39m\u001b[38;5;241m.\u001b[39mcss[\u001b[38;5;124m'\u001b[39m\u001b[38;5;124mcol\u001b[39m\u001b[38;5;124m'\u001b[39m]\u001b[38;5;132;01m}\u001b[39;00m\u001b[38;5;132;01m{\u001b[39;00mc\u001b[38;5;132;01m}\u001b[39;00m\u001b[38;5;132;01m{\u001b[39;00m\u001b[38;5;28mcls\u001b[39m\u001b[38;5;132;01m}\u001b[39;00m\u001b[38;5;124m\"\u001b[39m\n\u001b[0;32m    822\u001b[0m     ),\n\u001b[0;32m    823\u001b[0m     value,\n\u001b[0;32m    824\u001b[0m     data_element_visible,\n\u001b[0;32m    825\u001b[0m     attributes\u001b[38;5;241m=\u001b[39m\u001b[38;5;124m\"\u001b[39m\u001b[38;5;124m\"\u001b[39m,\n\u001b[1;32m--> 826\u001b[0m     display_value\u001b[38;5;241m=\u001b[39m\u001b[38;5;28mself\u001b[39m\u001b[38;5;241m.\u001b[39m_display_funcs[(r, c)](value),\n\u001b[0;32m    827\u001b[0m )\n\u001b[0;32m    829\u001b[0m \u001b[38;5;28;01mif\u001b[39;00m \u001b[38;5;28mself\u001b[39m\u001b[38;5;241m.\u001b[39mcell_ids:\n\u001b[0;32m    830\u001b[0m     data_element[\u001b[38;5;124m\"\u001b[39m\u001b[38;5;124mid\u001b[39m\u001b[38;5;124m\"\u001b[39m] \u001b[38;5;241m=\u001b[39m \u001b[38;5;124mf\u001b[39m\u001b[38;5;124m\"\u001b[39m\u001b[38;5;132;01m{\u001b[39;00m\u001b[38;5;28mself\u001b[39m\u001b[38;5;241m.\u001b[39mcss[\u001b[38;5;124m'\u001b[39m\u001b[38;5;124mrow\u001b[39m\u001b[38;5;124m'\u001b[39m]\u001b[38;5;132;01m}\u001b[39;00m\u001b[38;5;132;01m{\u001b[39;00mr\u001b[38;5;132;01m}\u001b[39;00m\u001b[38;5;124m_\u001b[39m\u001b[38;5;132;01m{\u001b[39;00m\u001b[38;5;28mself\u001b[39m\u001b[38;5;241m.\u001b[39mcss[\u001b[38;5;124m'\u001b[39m\u001b[38;5;124mcol\u001b[39m\u001b[38;5;124m'\u001b[39m]\u001b[38;5;132;01m}\u001b[39;00m\u001b[38;5;132;01m{\u001b[39;00mc\u001b[38;5;132;01m}\u001b[39;00m\u001b[38;5;124m\"\u001b[39m\n",
      "File \u001b[1;32m~\\anaconda3\\Lib\\site-packages\\pandas\\io\\formats\\style_render.py:1829\u001b[0m, in \u001b[0;36m_maybe_wrap_formatter.<locals>.<lambda>\u001b[1;34m(x)\u001b[0m\n\u001b[0;32m   1827\u001b[0m \u001b[38;5;66;03m# Get initial func from input string, input callable, or from default factory\u001b[39;00m\n\u001b[0;32m   1828\u001b[0m \u001b[38;5;28;01mif\u001b[39;00m \u001b[38;5;28misinstance\u001b[39m(formatter, \u001b[38;5;28mstr\u001b[39m):\n\u001b[1;32m-> 1829\u001b[0m     func_0 \u001b[38;5;241m=\u001b[39m \u001b[38;5;28;01mlambda\u001b[39;00m x: formatter\u001b[38;5;241m.\u001b[39mformat(x)\n\u001b[0;32m   1830\u001b[0m \u001b[38;5;28;01melif\u001b[39;00m \u001b[38;5;28mcallable\u001b[39m(formatter):\n\u001b[0;32m   1831\u001b[0m     func_0 \u001b[38;5;241m=\u001b[39m formatter\n",
      "\u001b[1;31mTypeError\u001b[0m: unsupported format string passed to NoneType.__format__"
     ]
    },
    {
     "data": {
      "text/plain": [
       "<pandas.io.formats.style.Styler at 0x1e0c9774790>"
      ]
     },
     "execution_count": 12,
     "metadata": {},
     "output_type": "execute_result"
    }
   ],
   "source": [
    "pd.DataFrame.from_dict(Results,orient='index').T.set_index('Model Status').style.format('{:,}')\n"
   ]
  },
  {
   "cell_type": "code",
   "execution_count": 13,
   "id": "1a713a01-ccbc-4d28-a153-95238cc00e90",
   "metadata": {},
   "outputs": [
    {
     "data": {
      "text/html": [
       "<iframe src=\"https://docs.google.com/presentation/d/e/2PACX-1vR7GL_wF1eKRO0JgEUyIx5cxXUhTQ8ZM4F3AE1MLr7GYG33dwEobrLo6O2MaV2d7Cv47TaTgHghkhrV/embed?start=false&loop=false&delayms=3000\" frameborder=\"0\" width=\"960\" height=\"569\" allowfullscreen=\"true\" mozallowfullscreen=\"true\" webkitallowfullscreen=\"true\"></iframe>\n"
      ],
      "text/plain": [
       "<IPython.core.display.HTML object>"
      ]
     },
     "metadata": {},
     "output_type": "display_data"
    }
   ],
   "source": [
    "%%html\n",
    "<iframe src=\"https://docs.google.com/presentation/d/e/2PACX-1vR7GL_wF1eKRO0JgEUyIx5cxXUhTQ8ZM4F3AE1MLr7GYG33dwEobrLo6O2MaV2d7Cv47TaTgHghkhrV/embed?start=false&loop=false&delayms=3000\" frameborder=\"0\" width=\"960\" height=\"569\" allowfullscreen=\"true\" mozallowfullscreen=\"true\" webkitallowfullscreen=\"true\"></iframe>"
   ]
  },
  {
   "cell_type": "code",
   "execution_count": 16,
   "id": "a7fe9d62-706c-4728-8b98-4e2c47a36b63",
   "metadata": {},
   "outputs": [
    {
     "name": "stdout",
     "output_type": "stream",
     "text": [
      "Collecting ahp\n",
      "  Downloading AHP-0.0.1-py3-none-any.whl.metadata (1.8 kB)\n",
      "Requirement already satisfied: numpy in c:\\users\\carlos daniel\\anaconda3\\lib\\site-packages (from ahp) (1.26.4)\n",
      "Requirement already satisfied: pandas in c:\\users\\carlos daniel\\anaconda3\\lib\\site-packages (from ahp) (2.2.2)\n",
      "Requirement already satisfied: python-dateutil>=2.8.2 in c:\\users\\carlos daniel\\anaconda3\\lib\\site-packages (from pandas->ahp) (2.8.2)\n",
      "Requirement already satisfied: pytz>=2020.1 in c:\\users\\carlos daniel\\anaconda3\\lib\\site-packages (from pandas->ahp) (2023.3.post1)\n",
      "Requirement already satisfied: tzdata>=2022.7 in c:\\users\\carlos daniel\\anaconda3\\lib\\site-packages (from pandas->ahp) (2023.3)\n",
      "Requirement already satisfied: six>=1.5 in c:\\users\\carlos daniel\\anaconda3\\lib\\site-packages (from python-dateutil>=2.8.2->pandas->ahp) (1.16.0)\n",
      "Downloading AHP-0.0.1-py3-none-any.whl (3.4 kB)\n",
      "Installing collected packages: ahp\n",
      "Successfully installed ahp-0.0.1\n"
     ]
    }
   ],
   "source": [
    "!pip install ahp"
   ]
  },
  {
   "cell_type": "code",
   "execution_count": 17,
   "id": "6b69577c-3782-4b7e-9dc0-0be0680514c8",
   "metadata": {},
   "outputs": [
    {
     "ename": "ImportError",
     "evalue": "cannot import name 'AHP' from 'ahp.ahp' (C:\\Users\\Carlos Daniel\\Documents\\2024-1\\ASIE\\ASIE_2024-1\\ahp\\ahp\\__init__.py)",
     "output_type": "error",
     "traceback": [
      "\u001b[1;31m---------------------------------------------------------------------------\u001b[0m",
      "\u001b[1;31mImportError\u001b[0m                               Traceback (most recent call last)",
      "Cell \u001b[1;32mIn[17], line 3\u001b[0m\n\u001b[0;32m      1\u001b[0m \u001b[38;5;66;03m# calling the function\u001b[39;00m\n\u001b[1;32m----> 3\u001b[0m \u001b[38;5;28;01mfrom\u001b[39;00m \u001b[38;5;21;01mahp\u001b[39;00m\u001b[38;5;21;01m.\u001b[39;00m\u001b[38;5;21;01mahp\u001b[39;00m \u001b[38;5;28;01mimport\u001b[39;00m AHP\n",
      "\u001b[1;31mImportError\u001b[0m: cannot import name 'AHP' from 'ahp.ahp' (C:\\Users\\Carlos Daniel\\Documents\\2024-1\\ASIE\\ASIE_2024-1\\ahp\\ahp\\__init__.py)"
     ]
    }
   ],
   "source": [
    "# calling the function\n",
    "\n",
    "from ahp.ahp import AHP"
   ]
  },
  {
   "cell_type": "code",
   "execution_count": null,
   "id": "77905778-eadd-47eb-ad3d-af52e59c64a7",
   "metadata": {},
   "outputs": [],
   "source": []
  }
 ],
 "metadata": {
  "kernelspec": {
   "display_name": "Python 3 (ipykernel)",
   "language": "python",
   "name": "python3"
  },
  "language_info": {
   "codemirror_mode": {
    "name": "ipython",
    "version": 3
   },
   "file_extension": ".py",
   "mimetype": "text/x-python",
   "name": "python",
   "nbconvert_exporter": "python",
   "pygments_lexer": "ipython3",
   "version": "3.11.7"
  }
 },
 "nbformat": 4,
 "nbformat_minor": 5
}
